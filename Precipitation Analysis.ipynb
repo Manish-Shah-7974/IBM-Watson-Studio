{
    "cells": [
        {
            "cell_type": "markdown",
            "metadata": {},
            "source": "# First DataSet Upload & Use"
        },
        {
            "cell_type": "code",
            "execution_count": 1,
            "metadata": {},
            "outputs": [
                {
                    "data": {
                        "text/html": "<div>\n<style scoped>\n    .dataframe tbody tr th:only-of-type {\n        vertical-align: middle;\n    }\n\n    .dataframe tbody tr th {\n        vertical-align: top;\n    }\n\n    .dataframe thead th {\n        text-align: right;\n    }\n</style>\n<table border=\"1\" class=\"dataframe\">\n  <thead>\n    <tr style=\"text-align: right;\">\n      <th></th>\n      <th>Metric</th>\n      <th>Country or Area</th>\n      <th>Year</th>\n      <th>Value</th>\n      <th>Value Footnotes</th>\n      <th>Unit</th>\n    </tr>\n  </thead>\n  <tbody>\n    <tr>\n      <th>0</th>\n      <td>Actual evapotranspiration</td>\n      <td>Algeria</td>\n      <td>2008</td>\n      <td>87600.000000</td>\n      <td>NaN</td>\n      <td>million cubic metres</td>\n    </tr>\n    <tr>\n      <th>1</th>\n      <td>Actual evapotranspiration</td>\n      <td>Andorra</td>\n      <td>2007</td>\n      <td>180.160004</td>\n      <td>NaN</td>\n      <td>million cubic metres</td>\n    </tr>\n    <tr>\n      <th>2</th>\n      <td>Actual evapotranspiration</td>\n      <td>Andorra</td>\n      <td>2006</td>\n      <td>196.369995</td>\n      <td>NaN</td>\n      <td>million cubic metres</td>\n    </tr>\n    <tr>\n      <th>3</th>\n      <td>Actual evapotranspiration</td>\n      <td>Andorra</td>\n      <td>2005</td>\n      <td>154.266007</td>\n      <td>NaN</td>\n      <td>million cubic metres</td>\n    </tr>\n    <tr>\n      <th>4</th>\n      <td>Actual evapotranspiration</td>\n      <td>Andorra</td>\n      <td>2004</td>\n      <td>170.720001</td>\n      <td>NaN</td>\n      <td>million cubic metres</td>\n    </tr>\n  </tbody>\n</table>\n</div>",
                        "text/plain": "                      Metric Country or Area  Year         Value  \\\n0  Actual evapotranspiration         Algeria  2008  87600.000000   \n1  Actual evapotranspiration         Andorra  2007    180.160004   \n2  Actual evapotranspiration         Andorra  2006    196.369995   \n3  Actual evapotranspiration         Andorra  2005    154.266007   \n4  Actual evapotranspiration         Andorra  2004    170.720001   \n\n  Value Footnotes                  Unit  \n0             NaN  million cubic metres  \n1             NaN  million cubic metres  \n2             NaN  million cubic metres  \n3             NaN  million cubic metres  \n4             NaN  million cubic metres  "
                    },
                    "execution_count": 1,
                    "metadata": {},
                    "output_type": "execute_result"
                }
            ],
            "source": "# The code was removed by Watson Studio for sharing."
        },
        {
            "cell_type": "code",
            "execution_count": null,
            "metadata": {},
            "outputs": [],
            "source": ""
        }
    ],
    "metadata": {
        "kernelspec": {
            "display_name": "Python 3.8",
            "language": "python",
            "name": "python3"
        },
        "language_info": {
            "codemirror_mode": {
                "name": "ipython",
                "version": 3
            },
            "file_extension": ".py",
            "mimetype": "text/x-python",
            "name": "python",
            "nbconvert_exporter": "python",
            "pygments_lexer": "ipython3",
            "version": "3.8.12"
        }
    },
    "nbformat": 4,
    "nbformat_minor": 1
}